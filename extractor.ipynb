{
 "cells": [
  {
   "cell_type": "code",
   "execution_count": 105,
   "metadata": {},
   "outputs": [],
   "source": [
    "import camelot as c\n",
    "import os\n",
    "import pandas as pd\n",
    "\n",
    "files = os.listdir(r\"C:\\Users\\there\\Documents\\Code\\Numismatics\\OCR\\pdfs\\simple\")\n",
    "pre = r\"C:\\Users\\there\\Documents\\Code\\Numismatics\\OCR\\pdfs\\simple\\\\\""
   ]
  },
  {
   "cell_type": "code",
   "execution_count": 106,
   "metadata": {},
   "outputs": [],
   "source": [
    "# for file in files:\n",
    "#     pdf = pre + file\n",
    "#     tables = c.read_pdf(pdf, \"all\")\n",
    "#     for table in tables:\n",
    "#         if table.parsing_report[\"accuracy\"] > 0.90:\n",
    "#             dir = f\"./data/{file}\"\n",
    "#             if not os.path.exists(dir):\n",
    "#                 os.mkdir(dir)\n",
    "#             table.to_csv(dir + f\"/{table.parsing_report['order']}.csv\")"
   ]
  },
  {
   "cell_type": "markdown",
   "metadata": {},
   "source": [
    "# Single-File"
   ]
  },
  {
   "cell_type": "code",
   "execution_count": 108,
   "metadata": {},
   "outputs": [],
   "source": [
    "testPDF = pre + \"Ariel and Berman - The Coins from Khirbat Burin.pdf\"\n",
    "tables = c.read_pdf(testPDF, \"all\", flavor=\"lattice\", line_scale=40, line_tol=12)"
   ]
  },
  {
   "cell_type": "markdown",
   "metadata": {},
   "source": [
    "### Remove Duplicate Headers"
   ]
  },
  {
   "cell_type": "code",
   "execution_count": 109,
   "metadata": {},
   "outputs": [],
   "source": [
    "overall_df = tables[0].df\n",
    "for table in tables[1:]:\n",
    "    cur_df = table.df\n",
    "\n",
    "    if cur_df[0][0] == overall_df[0][0]: # if non-initial table includes header again...\n",
    "        cur_df = cur_df.drop(0) # ...remove the header\n",
    "\n",
    "    overall_df = overall_df.merge(cur_df, how=\"outer\")"
   ]
  },
  {
   "cell_type": "code",
   "execution_count": 110,
   "metadata": {},
   "outputs": [],
   "source": [
    "cur_group = None\n",
    "new_col = []\n",
    "\n",
    "group_indices = []\n",
    "\n",
    "for index, row in overall_df.iterrows():\n",
    "    if sum(value != \"\" for value in row) == 1: # if only one cell filled --- indicates this is a grouping label/separator\n",
    "        cur_group = next(value for value in row if value != \"\")\n",
    "        group_indices.append(index)\n",
    "    else:\n",
    "        new_col.append(cur_group)\n",
    "\n",
    "for index in group_indices:\n",
    "    overall_df = overall_df.drop(index)\n",
    "\n",
    "overall_df = overall_df.assign(group=new_col) # append new groups column"
   ]
  },
  {
   "cell_type": "code",
   "execution_count": 114,
   "metadata": {},
   "outputs": [],
   "source": [
    "overall_df.to_csv(\"CUR.csv\", index=False, header=False, encoding=\"utf-8\") # need to add label for group depending on user input"
   ]
  },
  {
   "cell_type": "code",
   "execution_count": 112,
   "metadata": {},
   "outputs": [],
   "source": [
    "# print(table.parsing_report)\n",
    "# table = tables[0]\n",
    "# c.plot(table, kind=\"contour\") # line joint, text grid contour, textedge (Lat, Both, Stream)"
   ]
  }
 ],
 "metadata": {
  "kernelspec": {
   "display_name": "CoinGuessr",
   "language": "python",
   "name": "python3"
  },
  "language_info": {
   "codemirror_mode": {
    "name": "ipython",
    "version": 3
   },
   "file_extension": ".py",
   "mimetype": "text/x-python",
   "name": "python",
   "nbconvert_exporter": "python",
   "pygments_lexer": "ipython3",
   "version": "3.9.17"
  }
 },
 "nbformat": 4,
 "nbformat_minor": 2
}
