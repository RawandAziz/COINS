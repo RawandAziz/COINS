{
 "cells": [
  {
   "cell_type": "code",
   "execution_count": 1101,
   "metadata": {},
   "outputs": [],
   "source": [
    "import camelot as c\n",
    "from camelot import utils\n",
    "import os\n",
    "import pandas as pd\n",
    "import matplotlib.pyplot as plt\n",
    "import pyscreenshot as ss\n",
    "import pytesseract as tes\n",
    "import cv2\n",
    "import numpy as np\n",
    "import regex as re\n",
    "import pandas as pd\n",
    "\n",
    "files = os.listdir(r\"C:\\Users\\there\\Documents\\Code\\Numismatics\\OCR\\pdfs\\simple\")\n",
    "pre = r\"C:\\Users\\there\\Documents\\Code\\Numismatics\\OCR\\pdfs\\simple\\\\\"\n",
    "\n",
    "tes.pytesseract.tesseract_cmd = r\"C:\\Program Files\\Tesseract-OCR\\\\tesseract.exe\""
   ]
  },
  {
   "cell_type": "code",
   "execution_count": 1102,
   "metadata": {},
   "outputs": [],
   "source": [
    "# for file in files:\n",
    "#     pdf = pre + file\n",
    "#     tables = c.read_pdf(pdf, \"all\")\n",
    "#     for table in tables:\n",
    "#         if table.parsing_report[\"accuracy\"] > 0.90:\n",
    "#             dir = f\"./data/{file}\"\n",
    "#             if not os.path.exists(dir):\n",
    "#                 os.mkdir(dir)\n",
    "#             table.to_csv(dir + f\"/{table.parsing_report['order']}.csv\")"
   ]
  },
  {
   "cell_type": "markdown",
   "metadata": {},
   "source": [
    "# Single-File"
   ]
  },
  {
   "cell_type": "code",
   "execution_count": 1103,
   "metadata": {},
   "outputs": [],
   "source": [
    "# pdf = \"Farhi_Y_2018_Coins_from_the_2008_2009_Ex\"\n",
    "# testPDF = pre + pdf + \".pdf\" # 100,600,500,100 ||| 476,200,788,631 ||| tlx tly brx bry ||| (0,0) in BL corner\n",
    "# tables = c.read_pdf(testPDF, \"7\", flavor=\"lattice\", line_scale=40, line_tol=8, table_areas=[\"100,600,500,100\"]) # line tolerance issues, must be variable. if too big, wont run"
   ]
  },
  {
   "cell_type": "markdown",
   "metadata": {},
   "source": [
    "### Remove Duplicate Headers"
   ]
  },
  {
   "cell_type": "code",
   "execution_count": 1104,
   "metadata": {},
   "outputs": [],
   "source": [
    "# overall_df = tables[0].df\n",
    "# for table in tables[1:]:\n",
    "#     cur_df = table.df\n",
    "\n",
    "#     if cur_df[0][0] == overall_df[0][0]: # if non-initial table includes header again...\n",
    "#         cur_df = cur_df.drop(0) # ...remove the header\n",
    "\n",
    "#     overall_df = overall_df.merge(cur_df, how=\"outer\")"
   ]
  },
  {
   "cell_type": "code",
   "execution_count": 1105,
   "metadata": {},
   "outputs": [],
   "source": [
    "# cur_group = \"\"\n",
    "# new_col = []\n",
    "# group_indices = []\n",
    "\n",
    "# for index, row in overall_df.iterrows():\n",
    "#     if sum(value != \"\" for value in row) == 1: # if only one cell filled --- indicates this is a grouping label/separator\n",
    "#         cur_group = next(value for value in row if value != \"\")\n",
    "#         group_indices.append(index)\n",
    "#     else:\n",
    "#         new_col.append(cur_group)\n",
    "\n",
    "# for index in group_indices:\n",
    "#     overall_df = overall_df.drop(index)\n",
    "\n",
    "# overall_df = overall_df.assign(group=new_col) # append new groups column"
   ]
  },
  {
   "cell_type": "code",
   "execution_count": 1106,
   "metadata": {},
   "outputs": [],
   "source": [
    "# overall_df.to_csv(\"CUR.csv\", index=False, header=False, encoding=\"utf-8\") # need to add label for group depending on user input"
   ]
  },
  {
   "cell_type": "code",
   "execution_count": 1107,
   "metadata": {},
   "outputs": [],
   "source": [
    "# print(table.parsing_report)\n",
    "# pdf = \"Farhi_Y_2018_Coins_from_the_2008_2009_Ex\"\n",
    "# testPDF = pre + pdf + \".pdf\" # 100,600,500,100 ||| 476,200,788,631 ||| LX HiY RX LowY ||| (0,0) in BL corner ||| swap 2-4\n",
    "# tables = c.read_pdf(testPDF, \"7\", flavor=\"lattice\", line_scale=40, line_tol=8, table_areas=[\"0,755,577,100\"]) # line tolerance issues, must be variable. if too big, wont run\n",
    "# table = tables[0]\n",
    "# c.plot(table, kind=\"contour\") # line joint, text grid contour, textedge (Lat, Both, Stream)"
   ]
  },
  {
   "cell_type": "markdown",
   "metadata": {},
   "source": [
    "# Bounding box tool"
   ]
  },
  {
   "cell_type": "code",
   "execution_count": 1108,
   "metadata": {},
   "outputs": [],
   "source": [
    "import tkinter as tk\n",
    "from tkinter import ttk\n",
    "from tkinter import filedialog\n",
    "import pymupdf as mu\n",
    "from screeninfo import get_monitors\n",
    "import ctypes"
   ]
  },
  {
   "cell_type": "code",
   "execution_count": 1109,
   "metadata": {},
   "outputs": [],
   "source": [
    "values = [\n",
    "    \"ID\",\n",
    "    \"Name\",\n",
    "    \"Latitude\",\n",
    "    \"Longitude\",\n",
    "    \"Start_Year\",\n",
    "    \"End_Year\",\n",
    "    \"Num_Coins_Found\",\n",
    "    \"Reference\",\n",
    "    \"Comment\",\n",
    "    \"External_Link\"\n",
    "    ]\n",
    "\n",
    "mapping = {}\n",
    "coins = []\n",
    "grouping = \"\"\n",
    "labels = {}\n",
    "precise_date = False"
   ]
  },
  {
   "cell_type": "code",
   "execution_count": 1110,
   "metadata": {},
   "outputs": [],
   "source": [
    "def is_separator(row):\n",
    "    index = row[0]\n",
    "    if (index is None or len(index) == 0 or len(index) >= 5 or not any(char.isdigit() for char in index) \n",
    "    or sum(1 for col in row if (col == \"\" or col == \" \" or col == None)) >= len(row) / 2):\n",
    "        return True\n",
    "    return False"
   ]
  },
  {
   "cell_type": "code",
   "execution_count": 1111,
   "metadata": {},
   "outputs": [],
   "source": [
    "def is_header(row):\n",
    "    return row[0].replace(\"\\n\", \" \").replace(\"   \", \" \").replace(\"  \", \" \") == labels[0]"
   ]
  },
  {
   "cell_type": "code",
   "execution_count": 1112,
   "metadata": {},
   "outputs": [],
   "source": [
    "def get_separator(row):\n",
    "    return row.iloc[0]"
   ]
  },
  {
   "cell_type": "code",
   "execution_count": 1113,
   "metadata": {},
   "outputs": [],
   "source": [
    "def append_data(coins, tables, grouping):\n",
    "    count = 0\n",
    "    for table in tables:\n",
    "        table = table.df\n",
    "        for i, row in table.iterrows():\n",
    "            \n",
    "            if is_separator(row):\n",
    "                if is_header(row):\n",
    "                    # print(\"WAS HEADER\")\n",
    "                    continue\n",
    "                grouping = get_separator(row)\n",
    "                continue\n",
    "            \n",
    "            coin = {}\n",
    "            count += 1\n",
    "            \n",
    "            print(f\"Label: {labels}\")\n",
    "            print(f\"Mapping: {mapping}\")\n",
    "\n",
    "            for key, label in labels.items():\n",
    "                try:\n",
    "                    coin[mapping[label]] = row[key]\n",
    "                except:\n",
    "                    continue\n",
    "            coin[mapping[\"grouping_label\"]] = grouping\n",
    "            coins.append(coin)\n",
    "    return count"
   ]
  },
  {
   "cell_type": "code",
   "execution_count": 1114,
   "metadata": {},
   "outputs": [],
   "source": [
    "def upload_file(capture_button, tool):\n",
    "    file_path = filedialog.askopenfilename(filetypes=[(\"PDF files\", \"*.pdf\"), (\"All files\", \"*.*\")])\n",
    "    if file_path:\n",
    "        # print(file_path)\n",
    "        global file\n",
    "        file = file_path\n",
    "\n",
    "        mapping = {}\n",
    "\n",
    "        tk.Grid.rowconfigure(tool, 1, weight=1)\n",
    "        capture_button.grid(row=1, column=0, sticky=\"NSEW\", columnspan=2)"
   ]
  },
  {
   "cell_type": "code",
   "execution_count": 1115,
   "metadata": {},
   "outputs": [],
   "source": [
    "def download_csv(tool):\n",
    "\n",
    "    save_path = filedialog.asksaveasfilename(defaultextension=\".csv\", filetypes=[(\"CSV files\", \"*.csv\"), (\"All files\", \"*.*\")])\n",
    "    try:\n",
    "        global coins, mapping, grouping, labels, precise_date\n",
    "\n",
    "        df = pd.DataFrame(coins)\n",
    "        if precise_date:\n",
    "            df[\"Start_Year\"] = df[\"End_Year\"]   \n",
    "\n",
    "            cols = df.columns.tolist()\n",
    "            start_year_col = cols.pop()\n",
    "            cols.insert(1, start_year_col)\n",
    "\n",
    "            df = df[cols]     \n",
    "\n",
    "        df.to_csv(save_path, index=False, header=True, encoding=\"utf_8_sig\")\n",
    "        download_button = tool.children.get(\"upload_button\")\n",
    "        capture_button = tool.children.get(\"capture_button\")\n",
    "        download_button[\"text\"] = \"Upload\"\n",
    "        download_button[\"command\"] = lambda: upload_file(capture_button, tool)\n",
    "\n",
    "        # Reset global variables\n",
    "        mapping = {}\n",
    "        coins = []\n",
    "        grouping = \"\"\n",
    "        labels = {}\n",
    "        precise_date = False\n",
    "\n",
    "    except Exception as e:\n",
    "        tk.messagebox.showerror(\"Save Error\", f\"Error: {e}\")"
   ]
  },
  {
   "cell_type": "code",
   "execution_count": 1116,
   "metadata": {},
   "outputs": [],
   "source": [
    "def confirm_labels(confirm_window, tables, tool):\n",
    "\n",
    "    for i in range(9):\n",
    "        header = confirm_window.children.get(str(i)).get()\n",
    "        if header != \"\":\n",
    "            mapping[header] = values[i]\n",
    "    \n",
    "    mapping[\"grouping_label\"] = confirm_window.children.get(\"grouping_label\").get()\n",
    "\n",
    "    global precise_date\n",
    "\n",
    "    start_date = confirm_window.children.get(\"4\").get()\n",
    "    end_date = confirm_window.children.get(\"5\").get()\n",
    "\n",
    "    if start_date == end_date:\n",
    "        precise_date = True\n",
    "\n",
    "    confirm_window.destroy()\n",
    "\n",
    "    # print(f\"MAPPING: {mapping}\")\n",
    "    # print(f\"LABELS: {labels}\")\n",
    "\n",
    "    coins_added = append_data(coins, tables, grouping)\n",
    "\n",
    "    upload_button = tool.children.get(\"upload_button\")\n",
    "    capture_button = tool.children.get(\"capture_button\")\n",
    "\n",
    "    def change():\n",
    "        capture_button[\"text\"] = \"Capture table\"\n",
    "\n",
    "    capture_button[\"text\"] = f\"Success! Grabbed {coins_added} coins.\"\n",
    "    capture_button.after(1000, change)\n",
    "    upload_button[\"text\"] = \"Save csv\"\n",
    "    upload_button[\"command\"] = lambda: download_csv(tool)"
   ]
  },
  {
   "cell_type": "code",
   "execution_count": 1117,
   "metadata": {},
   "outputs": [],
   "source": [
    "def create_boxes(tables, tool):\n",
    "\n",
    "    labels_list = list(labels.values())\n",
    "    confirm_window = tk.Tk()\n",
    "\n",
    "    for i in range(10):\n",
    "        label = tk.Label(confirm_window, text=values[i])\n",
    "        label.grid(row=0, column=i, padx=1)\n",
    "\n",
    "        map = tk.StringVar(confirm_window)\n",
    "        box = ttk.Combobox(master=confirm_window, values=labels_list, textvariable=map, state=\"readonly\", name=str(i), width=17)\n",
    "        box.grid(row=1, column=i, padx=1)\n",
    "\n",
    "    label = tk.Label(confirm_window, text=\"Grouped by...\")\n",
    "    label.grid(row=0, column=10, padx=1)\n",
    "    map = tk.StringVar(confirm_window)\n",
    "    box = ttk.Combobox(master=confirm_window, values=values, textvariable=map, state=\"readonly\", name=\"grouping_label\", width=17)\n",
    "    box.grid(row=1, column=10, padx=1)    \n",
    "\n",
    "    confirm_labels_button = tk.Button(confirm_window, name=\"confirm_labels_button\", text=\"Confirm labels\", command=lambda: confirm_labels(confirm_window, tables, tool))\n",
    "    confirm_labels_button.grid(row=3, column=5, sticky=\"NSEW\")\n",
    "        "
   ]
  },
  {
   "cell_type": "code",
   "execution_count": 1118,
   "metadata": {},
   "outputs": [],
   "source": [
    "def get_page_number():\n",
    "    image = np.array(ss.grab([800, 95, 880, 135]).convert('RGB')) # 800-850-880\n",
    "    text = tes.image_to_string(image , config='digits')\n",
    "    text = re.search(r'\\d+', text)\n",
    "    if text is None:\n",
    "        return \"\"\n",
    "    else: \n",
    "        return int(text.group())"
   ]
  },
  {
   "cell_type": "code",
   "execution_count": 1119,
   "metadata": {},
   "outputs": [],
   "source": [
    "def get_pdf_page_dimensions(pdf_path, page_number):\n",
    "    \n",
    "    document = mu.open(pdf_path)\n",
    "    page = document.load_page(page_number-1)\n",
    "    rect = page.rect\n",
    "    width = rect.width\n",
    "    height = rect.height\n",
    "\n",
    "    return width, height"
   ]
  },
  {
   "cell_type": "code",
   "execution_count": 1120,
   "metadata": {},
   "outputs": [],
   "source": [
    "file = \"\"\n",
    "\n",
    "def browser_to_pdf_coord(tlx, tly, brx, bry, dpi, page):\n",
    "\n",
    "    scaleFactor = ctypes.windll.shcore.GetScaleFactorForDevice(0) / 100\n",
    "    pdf_width, pdf_height = get_pdf_page_dimensions(file, page)\n",
    "    factor = 72 / dpi \n",
    "\n",
    "    monitor = get_monitors()[0]\n",
    "    width_res = monitor.width * factor\n",
    "    height_res = monitor.height * factor    \n",
    "\n",
    "    scrollBar = 18 * factor\n",
    "    window_junk_above_pdf_reader = 155 * factor\n",
    "    height_res -= window_junk_above_pdf_reader  \n",
    "    scale = round(height_res / pdf_height, 2)  \n",
    "\n",
    "    pdf_width *= scale\n",
    "    width_res -= scrollBar # only if scrollBar present\n",
    "    pdf_left = (width_res - pdf_width) / 2 # equivalently: (width_res / 2) - (pdf_width / 2)\n",
    "    pdf_left /= scale\n",
    "    pdf_bottom = 146 * factor / scale\n",
    "\n",
    "    # converting screen dpi to PDF dpi (72)\n",
    "    tlx *= factor\n",
    "    tly *= factor\n",
    "    brx *= factor\n",
    "    bry *= factor\n",
    "\n",
    "    tlx /= scale\n",
    "    brx /= scale\n",
    "    tly /= scale\n",
    "    bry /= scale\n",
    "\n",
    "    tlx -= pdf_left\n",
    "    brx -= pdf_left\n",
    "    tly -= pdf_bottom\n",
    "    bry -= pdf_bottom\n",
    "\n",
    "    tly = pdf_height - tly # flipping, since PDF coords have origin in bottom-left while cursor coords start in top-left\n",
    "    bry = pdf_height - bry\n",
    "\n",
    "    return [f\"{tlx},{tly},{brx},{bry}\"]"
   ]
  },
  {
   "cell_type": "code",
   "execution_count": 1121,
   "metadata": {},
   "outputs": [],
   "source": [
    "def get_labels(table): \n",
    "    table = table.df\n",
    "    # print(table)\n",
    "    # print(f\"TABLE.iloc[0]: {table.iloc[0].tolist()}\")\n",
    "    if len(table) > 0:\n",
    "        temp_labels = table.loc[0]\n",
    "        for i, label in enumerate(temp_labels):\n",
    "            label = label.replace(\"\\n\", \" \").replace(\"   \", \" \").replace(\"  \", \" \")\n",
    "            labels[i] = label\n",
    "        return labels"
   ]
  },
  {
   "cell_type": "code",
   "execution_count": 1122,
   "metadata": {},
   "outputs": [],
   "source": [
    "tlx, tly, brx, bry = -1, -1, -1, -1\n",
    "\n",
    "def extract(tool, mapping): # upon pressing \"confirm\" after boxing the table\n",
    "    dpi = round(tool.winfo_fpixels(\"1i\")) # 96 for me, seems to be standard unless you're running this on a smart fridge\n",
    "    page = tool.children.get(\"page_textbox\").get(\"1.0\", tk.END)\n",
    "    page = re.search(r'\\d+', page)\n",
    "\n",
    "    reminder = tool.children.get(\"reminder\")\n",
    "    confirm_button = tool.children.get(\"confirm_button\")\n",
    "    page_textbox = tool.children.get(\"page_textbox\")\n",
    "    textbox_label = tool.children.get(\"textbox_label\")\n",
    "    capture_button = tool.children.get(\"capture_button\")\n",
    "    upload_button = tool.children.get(\"upload_button\")\n",
    "\n",
    "    if page is None:\n",
    "        tk.messagebox.showwarning(title=\"Oops!\", message=\"Missing page number\")\n",
    "    else:\n",
    "        reminder[\"text\"] = \"...\"\n",
    "\n",
    "        try:\n",
    "            page = int(page.group())\n",
    "            area = browser_to_pdf_coord(tlx, tly, brx, bry, dpi, page)\n",
    "            \n",
    "            tables = c.read_pdf(f\"{file}\", str(page), flavor=\"lattice\", line_scale=40, line_tol=8, table_areas=area) # flavor=\"lattice\", line_scale=40, line_tol=8, table_areas=area\n",
    "\n",
    "            if not mapping:\n",
    "                # confirm the labels\n",
    "                labels = get_labels(tables[0])\n",
    "                print(f\"LABELS: {labels}\")\n",
    "                create_boxes(tables, tool)\n",
    "            else:\n",
    "                coins_added = append_data(coins, tables, grouping)\n",
    "                reminder[\"text\"] = f\"Success! Grabbed {coins_added} coins.\"\n",
    "                upload_button[\"text\"] = \"Save csv\"\n",
    "                upload_button[\"command\"] = lambda: download_csv(tool)\n",
    "            \n",
    "            capture_button[\"text\"] = \"Capture table\"\n",
    "            textbox_label.after(2000, textbox_label.destroy)\n",
    "            page_textbox.after(2000, page_textbox.destroy)\n",
    "            confirm_button.after(2000, confirm_button.destroy)\n",
    "            reminder.after(2000, reminder.destroy)\n",
    "\n",
    "            c.plot(tables[0], kind=\"grid\") # line joint, text grid contour, textedge (Lat, Both, Stream)\n",
    "            plt.show()\n",
    "        except Exception as e:\n",
    "            print(e)\n",
    "            reminder[\"text\"] = \"Remember to fit the PDF to page!\"\n",
    "            reminder[\"font\"] = ('Helvetica', 9, 'bold')\n",
    "            tk.messagebox.showwarning(title=\"Oops!\", message=\"Table not found. Ensure page number is correct, PDF is fit to page (vertically stretched), and that your box is fully within the PDF.\")"
   ]
  },
  {
   "cell_type": "code",
   "execution_count": 1123,
   "metadata": {},
   "outputs": [],
   "source": [
    "def draw(event, canvas):\n",
    "    global tlx, tly\n",
    "    tlx = event.x\n",
    "    tly = event.y\n",
    "    canvas.create_oval(tlx-2, tly-2, tlx+2, tly+2, fill=\"Black\")\n",
    "\n",
    "def end_draw(event, transparent, canvas, tool, mapping):\n",
    "    global brx, bry\n",
    "    brx = event.x\n",
    "    bry = event.y\n",
    "\n",
    "    capture_button = tool.children.get(\"capture_button\")\n",
    "    \n",
    "    confirm_button = tk.Button(tool, text=\"Confirm\", name=\"confirm_button\", command=lambda: extract(tool, mapping))\n",
    "    \n",
    "    page_textbox = tk.Text(tool, name=\"page_textbox\", width=3, height=1)\n",
    "    textbox_label = tk.Label(tool, text=\"Page #\", name=\"textbox_label\")\n",
    "\n",
    "    canvas.create_rectangle(tlx, tly, brx, bry, outline=\"black\", width=5)\n",
    "\n",
    "    page = get_page_number()\n",
    "\n",
    "    tk.Grid.rowconfigure(tool, 2, weight=1)\n",
    "    textbox_label.grid(row=2, column=0, sticky=\"SNEW\")\n",
    "    page_textbox.grid(row=2, column=1, sticky=\"SNEW\")\n",
    "\n",
    "    if not re.search(r'\\d+', page_textbox.get(\"1.0\", tk.END)): # if empty\n",
    "        page_textbox.insert(\"1.0\", str(page))\n",
    "\n",
    "    capture_button.config(text=\"Redraw?\")\n",
    "    transparent.after(1000, transparent.destroy)\n",
    "\n",
    "    tk.Grid.rowconfigure(tool, 3, weight=1)\n",
    "    confirm_button.grid(row=3, column=0, sticky=\"SNEW\", columnspan=2)\n",
    "\n",
    "    reminder = tk.Label(tool, text=\"Remember to fit the PDF to page!\", name=\"reminder\", font=('Helvetica', 9, 'bold'))\n",
    "    reminder.grid(row=4, column=0)\n"
   ]
  },
  {
   "cell_type": "code",
   "execution_count": 1124,
   "metadata": {},
   "outputs": [],
   "source": [
    "def on_capture_button_click(tool, mapping):\n",
    "    transparent = tk.Tk()\n",
    "    transparent.overrideredirect(True)\n",
    "    transparent.state('zoomed')\n",
    "    canvas = tk.Canvas(transparent)\n",
    "    canvas.pack(fill=tk.BOTH, expand=True)\n",
    "\n",
    "    capture_button = tool.children.get(\"capture_button\")\n",
    "    capture_button.config(text=\"...\")\n",
    "\n",
    "    transparent.attributes(\"-alpha\", 0.5)\n",
    "\n",
    "    canvas.bind(\"<ButtonPress-1>\", lambda event: draw(event, canvas))\n",
    "    canvas.bind(\"<ButtonRelease-1>\", lambda event: end_draw(event, transparent, canvas, tool, mapping))"
   ]
  },
  {
   "cell_type": "code",
   "execution_count": 1125,
   "metadata": {},
   "outputs": [
    {
     "name": "stdout",
     "output_type": "stream",
     "text": [
      "LABELS: {0: 'Cat. No.', 1: 'Locus', 2: 'Basket', 3: 'Weight (g)', 4: 'Diam. (mm)', 5: 'Axis', 6: 'Obverse', 7: 'Reverse', 8: 'Date (CE)', 9: 'Mint', 10: 'Reference', 11: 'Notes', 12: 'IAA No.'}\n"
     ]
    },
    {
     "data": {
      "image/png": "[encoded data removed]",
      "text/plain": [
       "<Figure size 640x480 with 1 Axes>"
      ]
     },
     "metadata": {},
     "output_type": "display_data"
    },
    {
     "name": "stdout",
     "output_type": "stream",
     "text": [
      "Label: {0: 'Cat. No.', 1: 'Locus', 2: 'Basket', 3: 'Weight (g)', 4: 'Diam. (mm)', 5: 'Axis', 6: 'Obverse', 7: 'Reverse', 8: 'Date (CE)', 9: 'Mint', 10: 'Reference', 11: 'Notes', 12: 'IAA No.'}\n",
      "Mapping: {'Date (CE)': 'End_Year', 'grouping_label': ''}\n",
      "Label: {0: 'Cat. No.', 1: 'Locus', 2: 'Basket', 3: 'Weight (g)', 4: 'Diam. (mm)', 5: 'Axis', 6: 'Obverse', 7: 'Reverse', 8: 'Date (CE)', 9: 'Mint', 10: 'Reference', 11: 'Notes', 12: 'IAA No.'}\n",
      "Mapping: {'Date (CE)': 'End_Year', 'grouping_label': ''}\n",
      "Label: {0: 'Cat. No.', 1: 'Locus', 2: 'Basket', 3: 'Weight (g)', 4: 'Diam. (mm)', 5: 'Axis', 6: 'Obverse', 7: 'Reverse', 8: 'Date (CE)', 9: 'Mint', 10: 'Reference', 11: 'Notes', 12: 'IAA No.'}\n",
      "Mapping: {'Date (CE)': 'End_Year', 'grouping_label': ''}\n",
      "Label: {0: 'Cat. No.', 1: 'Locus', 2: 'Basket', 3: 'Weight (g)', 4: 'Diam. (mm)', 5: 'Axis', 6: 'Obverse', 7: 'Reverse', 8: 'Date (CE)', 9: 'Mint', 10: 'Reference', 11: 'Notes', 12: 'IAA No.'}\n",
      "Mapping: {'Date (CE)': 'End_Year', 'grouping_label': ''}\n",
      "Label: {0: 'Cat. No.', 1: 'Locus', 2: 'Basket', 3: 'Weight (g)', 4: 'Diam. (mm)', 5: 'Axis', 6: 'Obverse', 7: 'Reverse', 8: 'Date (CE)', 9: 'Mint', 10: 'Reference', 11: 'Notes', 12: 'IAA No.'}\n",
      "Mapping: {'Date (CE)': 'End_Year', 'grouping_label': ''}\n",
      "Label: {0: 'Cat. No.', 1: 'Locus', 2: 'Basket', 3: 'Weight (g)', 4: 'Diam. (mm)', 5: 'Axis', 6: 'Obverse', 7: 'Reverse', 8: 'Date (CE)', 9: 'Mint', 10: 'Reference', 11: 'Notes', 12: 'IAA No.'}\n",
      "Mapping: {'Date (CE)': 'End_Year', 'grouping_label': ''}\n",
      "LABELS: {0: 'Cat. No.', 1: 'Locus', 2: 'Basket', 3: 'Weight (g)', 4: 'Diam. (mm)', 5: 'Axis', 6: 'Obverse', 7: 'Reverse', 8: 'Date (CE)', 9: 'Mint', 10: 'Reference', 11: 'Notes', 12: 'IAA No.'}\n"
     ]
    },
    {
     "data": {
      "image/png": "[encoded data removed]",
      "text/plain": [
       "<Figure size 640x480 with 1 Axes>"
      ]
     },
     "metadata": {},
     "output_type": "display_data"
    },
    {
     "name": "stdout",
     "output_type": "stream",
     "text": [
      "Label: {0: 'Cat. No.', 1: 'Locus', 2: 'Basket', 3: 'Weight (g)', 4: 'Diam. (mm)', 5: 'Axis', 6: 'Obverse', 7: 'Reverse', 8: 'Date (CE)', 9: 'Mint', 10: 'Reference', 11: 'Notes', 12: 'IAA No.'}\n",
      "Mapping: {'Cat. No.': 'ID', 'Date (CE)': 'End_Year', 'Reference': 'Reference', 'Notes': 'Comment', 'grouping_label': 'Name'}\n",
      "Label: {0: 'Cat. No.', 1: 'Locus', 2: 'Basket', 3: 'Weight (g)', 4: 'Diam. (mm)', 5: 'Axis', 6: 'Obverse', 7: 'Reverse', 8: 'Date (CE)', 9: 'Mint', 10: 'Reference', 11: 'Notes', 12: 'IAA No.'}\n",
      "Mapping: {'Cat. No.': 'ID', 'Date (CE)': 'End_Year', 'Reference': 'Reference', 'Notes': 'Comment', 'grouping_label': 'Name'}\n",
      "Label: {0: 'Cat. No.', 1: 'Locus', 2: 'Basket', 3: 'Weight (g)', 4: 'Diam. (mm)', 5: 'Axis', 6: 'Obverse', 7: 'Reverse', 8: 'Date (CE)', 9: 'Mint', 10: 'Reference', 11: 'Notes', 12: 'IAA No.'}\n",
      "Mapping: {'Cat. No.': 'ID', 'Date (CE)': 'End_Year', 'Reference': 'Reference', 'Notes': 'Comment', 'grouping_label': 'Name'}\n",
      "Label: {0: 'Cat. No.', 1: 'Locus', 2: 'Basket', 3: 'Weight (g)', 4: 'Diam. (mm)', 5: 'Axis', 6: 'Obverse', 7: 'Reverse', 8: 'Date (CE)', 9: 'Mint', 10: 'Reference', 11: 'Notes', 12: 'IAA No.'}\n",
      "Mapping: {'Cat. No.': 'ID', 'Date (CE)': 'End_Year', 'Reference': 'Reference', 'Notes': 'Comment', 'grouping_label': 'Name'}\n",
      "Label: {0: 'Cat. No.', 1: 'Locus', 2: 'Basket', 3: 'Weight (g)', 4: 'Diam. (mm)', 5: 'Axis', 6: 'Obverse', 7: 'Reverse', 8: 'Date (CE)', 9: 'Mint', 10: 'Reference', 11: 'Notes', 12: 'IAA No.'}\n",
      "Mapping: {'Cat. No.': 'ID', 'Date (CE)': 'End_Year', 'Reference': 'Reference', 'Notes': 'Comment', 'grouping_label': 'Name'}\n",
      "Label: {0: 'Cat. No.', 1: 'Locus', 2: 'Basket', 3: 'Weight (g)', 4: 'Diam. (mm)', 5: 'Axis', 6: 'Obverse', 7: 'Reverse', 8: 'Date (CE)', 9: 'Mint', 10: 'Reference', 11: 'Notes', 12: 'IAA No.'}\n",
      "Mapping: {'Cat. No.': 'ID', 'Date (CE)': 'End_Year', 'Reference': 'Reference', 'Notes': 'Comment', 'grouping_label': 'Name'}\n",
      "Label: {0: 'Cat. No.', 1: 'Locus', 2: 'Basket', 3: 'Weight (g)', 4: 'Diam. (mm)', 5: 'Axis', 6: 'Obverse', 7: 'Reverse', 8: 'Date (CE)', 9: 'Mint', 10: 'Reference', 11: 'Notes', 12: 'IAA No.'}\n",
      "Mapping: {'Cat. No.': 'ID', 'Date (CE)': 'End_Year', 'Reference': 'Reference', 'Notes': 'Comment', 'grouping_label': 'Name'}\n",
      "Label: {0: 'Cat. No.', 1: 'Locus', 2: 'Basket', 3: 'Weight (g)', 4: 'Diam. (mm)', 5: 'Axis', 6: 'Obverse', 7: 'Reverse', 8: 'Date (CE)', 9: 'Mint', 10: 'Reference', 11: 'Notes', 12: 'IAA No.'}\n",
      "Mapping: {'Cat. No.': 'ID', 'Date (CE)': 'End_Year', 'Reference': 'Reference', 'Notes': 'Comment', 'grouping_label': 'Name'}\n",
      "Label: {0: 'Cat. No.', 1: 'Locus', 2: 'Basket', 3: 'Weight (g)', 4: 'Diam. (mm)', 5: 'Axis', 6: 'Obverse', 7: 'Reverse', 8: 'Date (CE)', 9: 'Mint', 10: 'Reference', 11: 'Notes', 12: 'IAA No.'}\n",
      "Mapping: {'Cat. No.': 'ID', 'Date (CE)': 'End_Year', 'Reference': 'Reference', 'Notes': 'Comment', 'grouping_label': 'Name'}\n",
      "Label: {0: 'Cat. No.', 1: 'Locus', 2: 'Basket', 3: 'Weight (g)', 4: 'Diam. (mm)', 5: 'Axis', 6: 'Obverse', 7: 'Reverse', 8: 'Date (CE)', 9: 'Mint', 10: 'Reference', 11: 'Notes', 12: 'IAA No.'}\n",
      "Mapping: {'Cat. No.': 'ID', 'Date (CE)': 'End_Year', 'Reference': 'Reference', 'Notes': 'Comment', 'grouping_label': 'Name'}\n",
      "Label: {0: 'Cat. No.', 1: 'Locus', 2: 'Basket', 3: 'Weight (g)', 4: 'Diam. (mm)', 5: 'Axis', 6: 'Obverse', 7: 'Reverse', 8: 'Date (CE)', 9: 'Mint', 10: 'Reference', 11: 'Notes', 12: 'IAA No.'}\n",
      "Mapping: {'Cat. No.': 'ID', 'Date (CE)': 'End_Year', 'Reference': 'Reference', 'Notes': 'Comment', 'grouping_label': 'Name'}\n",
      "Label: {0: 'Cat. No.', 1: 'Locus', 2: 'Basket', 3: 'Weight (g)', 4: 'Diam. (mm)', 5: 'Axis', 6: 'Obverse', 7: 'Reverse', 8: 'Date (CE)', 9: 'Mint', 10: 'Reference', 11: 'Notes', 12: 'IAA No.'}\n",
      "Mapping: {'Cat. No.': 'ID', 'Date (CE)': 'End_Year', 'Reference': 'Reference', 'Notes': 'Comment', 'grouping_label': 'Name'}\n",
      "Label: {0: 'Cat. No.', 1: 'Locus', 2: 'Basket', 3: 'Weight (g)', 4: 'Diam. (mm)', 5: 'Axis', 6: 'Obverse', 7: 'Reverse', 8: 'Date (CE)', 9: 'Mint', 10: 'Reference', 11: 'Notes', 12: 'IAA No.'}\n",
      "Mapping: {'Cat. No.': 'ID', 'Date (CE)': 'End_Year', 'Reference': 'Reference', 'Notes': 'Comment', 'grouping_label': 'Name'}\n",
      "Label: {0: 'Cat. No.', 1: 'Locus', 2: 'Basket', 3: 'Weight (g)', 4: 'Diam. (mm)', 5: 'Axis', 6: 'Obverse', 7: 'Reverse', 8: 'Date (CE)', 9: 'Mint', 10: 'Reference', 11: 'Notes', 12: 'IAA No.'}\n",
      "Mapping: {'Cat. No.': 'ID', 'Date (CE)': 'End_Year', 'Reference': 'Reference', 'Notes': 'Comment', 'grouping_label': 'Name'}\n"
     ]
    },
    {
     "data": {
      "image/png": "[encoded data removed]",
      "text/plain": [
       "<Figure size 640x480 with 1 Axes>"
      ]
     },
     "metadata": {},
     "output_type": "display_data"
    },
    {
     "name": "stdout",
     "output_type": "stream",
     "text": [
      "Label: {0: 'Cat. No.', 1: 'Locus', 2: 'Basket', 3: 'Weight (g)', 4: 'Diam. (mm)', 5: 'Axis', 6: 'Obverse', 7: 'Reverse', 8: 'Date (CE)', 9: 'Mint', 10: 'Reference', 11: 'Notes', 12: 'IAA No.'}\n",
      "Mapping: {'Cat. No.': 'ID', 'Date (CE)': 'End_Year', 'Reference': 'Reference', 'Notes': 'Comment', 'grouping_label': 'Name'}\n",
      "Label: {0: 'Cat. No.', 1: 'Locus', 2: 'Basket', 3: 'Weight (g)', 4: 'Diam. (mm)', 5: 'Axis', 6: 'Obverse', 7: 'Reverse', 8: 'Date (CE)', 9: 'Mint', 10: 'Reference', 11: 'Notes', 12: 'IAA No.'}\n",
      "Mapping: {'Cat. No.': 'ID', 'Date (CE)': 'End_Year', 'Reference': 'Reference', 'Notes': 'Comment', 'grouping_label': 'Name'}\n",
      "Label: {0: 'Cat. No.', 1: 'Locus', 2: 'Basket', 3: 'Weight (g)', 4: 'Diam. (mm)', 5: 'Axis', 6: 'Obverse', 7: 'Reverse', 8: 'Date (CE)', 9: 'Mint', 10: 'Reference', 11: 'Notes', 12: 'IAA No.'}\n",
      "Mapping: {'Cat. No.': 'ID', 'Date (CE)': 'End_Year', 'Reference': 'Reference', 'Notes': 'Comment', 'grouping_label': 'Name'}\n",
      "Label: {0: 'Cat. No.', 1: 'Locus', 2: 'Basket', 3: 'Weight (g)', 4: 'Diam. (mm)', 5: 'Axis', 6: 'Obverse', 7: 'Reverse', 8: 'Date (CE)', 9: 'Mint', 10: 'Reference', 11: 'Notes', 12: 'IAA No.'}\n",
      "Mapping: {'Cat. No.': 'ID', 'Date (CE)': 'End_Year', 'Reference': 'Reference', 'Notes': 'Comment', 'grouping_label': 'Name'}\n",
      "Label: {0: 'Cat. No.', 1: 'Locus', 2: 'Basket', 3: 'Weight (g)', 4: 'Diam. (mm)', 5: 'Axis', 6: 'Obverse', 7: 'Reverse', 8: 'Date (CE)', 9: 'Mint', 10: 'Reference', 11: 'Notes', 12: 'IAA No.'}\n",
      "Mapping: {'Cat. No.': 'ID', 'Date (CE)': 'End_Year', 'Reference': 'Reference', 'Notes': 'Comment', 'grouping_label': 'Name'}\n",
      "Label: {0: 'Cat. No.', 1: 'Locus', 2: 'Basket', 3: 'Weight (g)', 4: 'Diam. (mm)', 5: 'Axis', 6: 'Obverse', 7: 'Reverse', 8: 'Date (CE)', 9: 'Mint', 10: 'Reference', 11: 'Notes', 12: 'IAA No.'}\n",
      "Mapping: {'Cat. No.': 'ID', 'Date (CE)': 'End_Year', 'Reference': 'Reference', 'Notes': 'Comment', 'grouping_label': 'Name'}\n",
      "Label: {0: 'Cat. No.', 1: 'Locus', 2: 'Basket', 3: 'Weight (g)', 4: 'Diam. (mm)', 5: 'Axis', 6: 'Obverse', 7: 'Reverse', 8: 'Date (CE)', 9: 'Mint', 10: 'Reference', 11: 'Notes', 12: 'IAA No.'}\n",
      "Mapping: {'Cat. No.': 'ID', 'Date (CE)': 'End_Year', 'Reference': 'Reference', 'Notes': 'Comment', 'grouping_label': 'Name'}\n"
     ]
    },
    {
     "data": {
      "image/png": "[encoded data removed]",
      "text/plain": [
       "<Figure size 640x480 with 1 Axes>"
      ]
     },
     "metadata": {},
     "output_type": "display_data"
    },
    {
     "name": "stdout",
     "output_type": "stream",
     "text": [
      "Label: {0: 'Cat. No.', 1: 'Locus', 2: 'Basket', 3: 'Weight (g)', 4: 'Diam. (mm)', 5: 'Axis', 6: 'Obverse', 7: 'Reverse', 8: 'Date (CE)', 9: 'Mint', 10: 'Reference', 11: 'Notes', 12: 'IAA No.'}\n",
      "Mapping: {'Cat. No.': 'ID', 'Date (CE)': 'End_Year', 'Reference': 'Reference', 'Notes': 'Comment', 'grouping_label': 'Name'}\n",
      "Label: {0: 'Cat. No.', 1: 'Locus', 2: 'Basket', 3: 'Weight (g)', 4: 'Diam. (mm)', 5: 'Axis', 6: 'Obverse', 7: 'Reverse', 8: 'Date (CE)', 9: 'Mint', 10: 'Reference', 11: 'Notes', 12: 'IAA No.'}\n",
      "Mapping: {'Cat. No.': 'ID', 'Date (CE)': 'End_Year', 'Reference': 'Reference', 'Notes': 'Comment', 'grouping_label': 'Name'}\n",
      "Label: {0: 'Cat. No.', 1: 'Locus', 2: 'Basket', 3: 'Weight (g)', 4: 'Diam. (mm)', 5: 'Axis', 6: 'Obverse', 7: 'Reverse', 8: 'Date (CE)', 9: 'Mint', 10: 'Reference', 11: 'Notes', 12: 'IAA No.'}\n",
      "Mapping: {'Cat. No.': 'ID', 'Date (CE)': 'End_Year', 'Reference': 'Reference', 'Notes': 'Comment', 'grouping_label': 'Name'}\n",
      "Label: {0: 'Cat. No.', 1: 'Locus', 2: 'Basket', 3: 'Weight (g)', 4: 'Diam. (mm)', 5: 'Axis', 6: 'Obverse', 7: 'Reverse', 8: 'Date (CE)', 9: 'Mint', 10: 'Reference', 11: 'Notes', 12: 'IAA No.'}\n",
      "Mapping: {'Cat. No.': 'ID', 'Date (CE)': 'End_Year', 'Reference': 'Reference', 'Notes': 'Comment', 'grouping_label': 'Name'}\n",
      "Label: {0: 'Cat. No.', 1: 'Locus', 2: 'Basket', 3: 'Weight (g)', 4: 'Diam. (mm)', 5: 'Axis', 6: 'Obverse', 7: 'Reverse', 8: 'Date (CE)', 9: 'Mint', 10: 'Reference', 11: 'Notes', 12: 'IAA No.'}\n",
      "Mapping: {'Cat. No.': 'ID', 'Date (CE)': 'End_Year', 'Reference': 'Reference', 'Notes': 'Comment', 'grouping_label': 'Name'}\n",
      "Label: {0: 'Cat. No.', 1: 'Locus', 2: 'Basket', 3: 'Weight (g)', 4: 'Diam. (mm)', 5: 'Axis', 6: 'Obverse', 7: 'Reverse', 8: 'Date (CE)', 9: 'Mint', 10: 'Reference', 11: 'Notes', 12: 'IAA No.'}\n",
      "Mapping: {'Cat. No.': 'ID', 'Date (CE)': 'End_Year', 'Reference': 'Reference', 'Notes': 'Comment', 'grouping_label': 'Name'}\n"
     ]
    },
    {
     "data": {
      "image/png": "[encoded data removed]",
      "text/plain": [
       "<Figure size 640x480 with 1 Axes>"
      ]
     },
     "metadata": {},
     "output_type": "display_data"
    }
   ],
   "source": [
    "tool = tk.Tk()\n",
    "tool.title(\"COINS Tool\")\n",
    "\n",
    "upload_button = tk.Button(tool, text=\"Upload PDF\", name='upload_button', command=lambda: upload_file(capture_button, tool))\n",
    "capture_button = tk.Button(tool, text=\"Capture table\", name=\"capture_button\", command=lambda: on_capture_button_click(tool, mapping))\n",
    "\n",
    "tk.Grid.columnconfigure(tool, 0, weight=1)\n",
    "tk.Grid.columnconfigure(tool, 1, weight=1)\n",
    "tk.Grid.rowconfigure(tool, 0, weight=1)\n",
    "\n",
    "upload_button.grid(row=0, column=0, sticky=\"NSEW\", columnspan=2)\n",
    "\n",
    "tool.mainloop()"
   ]
  },
  {
   "cell_type": "markdown",
   "metadata": {},
   "source": [
    "# Time: 4-"
   ]
  },
  {
   "cell_type": "markdown",
   "metadata": {},
   "source": [
    "End"
   ]
  }
 ],
 "metadata": {
  "kernelspec": {
   "display_name": "CoinGuessr",
   "language": "python",
   "name": "python3"
  },
  "language_info": {
   "codemirror_mode": {
    "name": "ipython",
    "version": 3
   },
   "file_extension": ".py",
   "mimetype": "text/x-python",
   "name": "python",
   "nbconvert_exporter": "python",
   "pygments_lexer": "ipython3",
   "version": "3.9.17"
  }
 },
 "nbformat": 4,
 "nbformat_minor": 2
}
