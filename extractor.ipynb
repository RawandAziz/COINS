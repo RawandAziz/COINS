{
 "cells": [
  {
   "cell_type": "code",
   "execution_count": 212,
   "metadata": {},
   "outputs": [],
   "source": [
    "import camelot as c\n",
    "from camelot import utils\n",
    "import os\n",
    "import pandas as pd\n",
    "import matplotlib.pyplot as plt\n",
    "import pyscreenshot as ss\n",
    "import pytesseract as tes\n",
    "import cv2\n",
    "import numpy as np\n",
    "import regex as re\n",
    "\n",
    "files = os.listdir(r\"C:\\Users\\there\\Documents\\Code\\Numismatics\\OCR\\pdfs\\simple\")\n",
    "pre = r\"C:\\Users\\there\\Documents\\Code\\Numismatics\\OCR\\pdfs\\simple\\\\\"\n",
    "\n",
    "tes.pytesseract.tesseract_cmd = r\"C:\\Program Files\\Tesseract-OCR\\\\tesseract.exe\""
   ]
  },
  {
   "cell_type": "code",
   "execution_count": 213,
   "metadata": {},
   "outputs": [],
   "source": [
    "# for file in files:\n",
    "#     pdf = pre + file\n",
    "#     tables = c.read_pdf(pdf, \"all\")\n",
    "#     for table in tables:\n",
    "#         if table.parsing_report[\"accuracy\"] > 0.90:\n",
    "#             dir = f\"./data/{file}\"\n",
    "#             if not os.path.exists(dir):\n",
    "#                 os.mkdir(dir)\n",
    "#             table.to_csv(dir + f\"/{table.parsing_report['order']}.csv\")"
   ]
  },
  {
   "cell_type": "markdown",
   "metadata": {},
   "source": [
    "# Single-File"
   ]
  },
  {
   "cell_type": "code",
   "execution_count": 214,
   "metadata": {},
   "outputs": [],
   "source": [
    "# pdf = \"Farhi_Y_2018_Coins_from_the_2008_2009_Ex\"\n",
    "# testPDF = pre + pdf + \".pdf\" # 100,600,500,100 ||| 476,200,788,631 ||| tlx tly brx bry ||| (0,0) in BL corner\n",
    "# tables = c.read_pdf(testPDF, \"7\", flavor=\"lattice\", line_scale=40, line_tol=8, table_areas=[\"100,600,500,100\"]) # line tolerance issues, must be variable. if too big, wont run"
   ]
  },
  {
   "cell_type": "markdown",
   "metadata": {},
   "source": [
    "### Remove Duplicate Headers"
   ]
  },
  {
   "cell_type": "code",
   "execution_count": 215,
   "metadata": {},
   "outputs": [],
   "source": [
    "# overall_df = tables[0].df\n",
    "# for table in tables[1:]:\n",
    "#     cur_df = table.df\n",
    "\n",
    "#     if cur_df[0][0] == overall_df[0][0]: # if non-initial table includes header again...\n",
    "#         cur_df = cur_df.drop(0) # ...remove the header\n",
    "\n",
    "#     overall_df = overall_df.merge(cur_df, how=\"outer\")"
   ]
  },
  {
   "cell_type": "code",
   "execution_count": 216,
   "metadata": {},
   "outputs": [],
   "source": [
    "# cur_group = \"\"\n",
    "# new_col = []\n",
    "# group_indices = []\n",
    "\n",
    "# for index, row in overall_df.iterrows():\n",
    "#     if sum(value != \"\" for value in row) == 1: # if only one cell filled --- indicates this is a grouping label/separator\n",
    "#         cur_group = next(value for value in row if value != \"\")\n",
    "#         group_indices.append(index)\n",
    "#     else:\n",
    "#         new_col.append(cur_group)\n",
    "\n",
    "# for index in group_indices:\n",
    "#     overall_df = overall_df.drop(index)\n",
    "\n",
    "# overall_df = overall_df.assign(group=new_col) # append new groups column"
   ]
  },
  {
   "cell_type": "code",
   "execution_count": 217,
   "metadata": {},
   "outputs": [],
   "source": [
    "# overall_df.to_csv(\"CUR.csv\", index=False, header=False, encoding=\"utf-8\") # need to add label for group depending on user input"
   ]
  },
  {
   "cell_type": "code",
   "execution_count": 218,
   "metadata": {},
   "outputs": [],
   "source": [
    "# print(table.parsing_report)\n",
    "# pdf = \"Farhi_Y_2018_Coins_from_the_2008_2009_Ex\"\n",
    "# testPDF = pre + pdf + \".pdf\" # 100,600,500,100 ||| 476,200,788,631 ||| LX HiY RX LowY ||| (0,0) in BL corner ||| swap 2-4\n",
    "# tables = c.read_pdf(testPDF, \"7\", flavor=\"lattice\", line_scale=40, line_tol=8, table_areas=[\"0,755,577,100\"]) # line tolerance issues, must be variable. if too big, wont run\n",
    "# table = tables[0]\n",
    "# c.plot(table, kind=\"contour\") # line joint, text grid contour, textedge (Lat, Both, Stream)"
   ]
  },
  {
   "cell_type": "markdown",
   "metadata": {},
   "source": [
    "# Bounding box tool"
   ]
  },
  {
   "cell_type": "code",
   "execution_count": 219,
   "metadata": {},
   "outputs": [],
   "source": [
    "import tkinter as tk\n",
    "from tkinter import filedialog\n",
    "import pymupdf as mu\n",
    "from screeninfo import get_monitors\n",
    "import ctypes"
   ]
  },
  {
   "cell_type": "code",
   "execution_count": 220,
   "metadata": {},
   "outputs": [],
   "source": [
    "def get_page_number():\n",
    "    image = np.array(ss.grab([800, 95, 880, 135]).convert('RGB')) # 800-850-880\n",
    "    text = tes.image_to_string(image , config='digits')\n",
    "    text = re.search(r'\\d+', text)\n",
    "    if text is None:\n",
    "        return \"\"\n",
    "    else: \n",
    "        return int(text.group())"
   ]
  },
  {
   "cell_type": "code",
   "execution_count": 221,
   "metadata": {},
   "outputs": [],
   "source": [
    "def get_pdf_page_dimensions(pdf_path, page_number):\n",
    "    \n",
    "    document = mu.open(pdf_path)\n",
    "    page = document.load_page(page_number-1)\n",
    "    rect = page.rect\n",
    "    width = rect.width\n",
    "    height = rect.height\n",
    "\n",
    "    return width, height"
   ]
  },
  {
   "cell_type": "code",
   "execution_count": 222,
   "metadata": {},
   "outputs": [],
   "source": [
    "file = \"\"\n",
    "\n",
    "def browser_to_pdf_coord(tlx, tly, brx, bry, dpi, page):\n",
    "\n",
    "    scaleFactor = ctypes.windll.shcore.GetScaleFactorForDevice(0) / 100\n",
    "    pdf_width, pdf_height = get_pdf_page_dimensions(file, page)\n",
    "    factor = 72 / dpi \n",
    "\n",
    "    monitor = get_monitors()[0]\n",
    "    width_res = monitor.width * factor\n",
    "    height_res = monitor.height * factor    \n",
    "\n",
    "    scrollBar = 18 * factor\n",
    "    window_junk_above_pdf_reader = 155 * factor\n",
    "    height_res -= window_junk_above_pdf_reader  \n",
    "    scale = round(height_res / pdf_height, 2)  \n",
    "\n",
    "    pdf_width *= scale\n",
    "    width_res -= scrollBar # only if scrollBar present\n",
    "    pdf_left = (width_res - pdf_width) / 2 # equivalently: (width_res / 2) - (pdf_width / 2)\n",
    "    pdf_left /= scale\n",
    "    pdf_bottom = 146 * factor / scale\n",
    "\n",
    "    # converting screen dpi to PDF dpi (72)\n",
    "    tlx *= factor\n",
    "    tly *= factor\n",
    "    brx *= factor\n",
    "    bry *= factor\n",
    "\n",
    "    tlx /= scale\n",
    "    brx /= scale\n",
    "    tly /= scale\n",
    "    bry /= scale\n",
    "\n",
    "    tlx -= pdf_left\n",
    "    brx -= pdf_left\n",
    "    tly -= pdf_bottom\n",
    "    bry -= pdf_bottom\n",
    "\n",
    "    tly = pdf_height - tly # flipping, since PDF coords have origin in bottom-left while cursor coords start in top-left\n",
    "    bry = pdf_height - bry\n",
    "\n",
    "    return [f\"{tlx},{tly},{brx},{bry}\"]"
   ]
  },
  {
   "cell_type": "code",
   "execution_count": 223,
   "metadata": {},
   "outputs": [],
   "source": [
    "tlx, tly, brx, bry = -1, -1, -1, -1\n",
    "\n",
    "def extract(tool): # upon pressing \"confirm\" after boxing the table\n",
    "    dpi = round(tool.winfo_fpixels(\"1i\")) # 96 for me, seems to be standard unless you're running this on a smart fridge\n",
    "    page = tool.children.get(\"page_textbox\").get(\"1.0\", tk.END)\n",
    "    page = re.search(r'\\d+', page)\n",
    "\n",
    "    reminder = tool.children.get(\"reminder\")\n",
    "    confirm_button = tool.children.get(\"confirm_button\")\n",
    "    page_textbox = tool.children.get(\"page_textbox\")\n",
    "    textbox_label = tool.children.get(\"textbox_label\")\n",
    "    capture_button = tool.children.get(\"capture_button\")\n",
    "\n",
    "    if page is None:\n",
    "        tk.messagebox.showwarning(title=\"Oops!\", message=\"Missing page number\")\n",
    "    else:\n",
    "        reminder[\"text\"] = \"...\"\n",
    "\n",
    "        try:\n",
    "            page = int(page.group())\n",
    "            area = browser_to_pdf_coord(tlx, tly, brx, bry, dpi, page)\n",
    "            \n",
    "            table = c.read_pdf(f\"{file}\", str(page), flavor=\"lattice\", line_scale=40, line_tol=8, table_areas=area)[0].df\n",
    "            reminder[\"text\"] = f\"Success! Grabbed {len(table)} rows.\"\n",
    "            \n",
    "            \n",
    "            capture_button[\"text\"] = \"Capture table\"\n",
    "            textbox_label.after(2000, textbox_label.destroy)\n",
    "            page_textbox.after(2000, page_textbox.destroy)\n",
    "            confirm_button.after(2000, confirm_button.destroy)\n",
    "            reminder.after(2000, reminder.destroy)\n",
    "\n",
    "            # c.plot(table, kind=\"contour\") # line joint, text grid contour, textedge (Lat, Both, Stream)\n",
    "            # plt.show()\n",
    "        except Exception as e:\n",
    "            # print(e)\n",
    "            reminder[\"text\"] = \"Remember to fit the PDF to page!\"\n",
    "            reminder[\"font\"] = ('Helvetica', 9, 'bold')\n",
    "            tk.messagebox.showwarning(title=\"Oops!\", message=\"Table not found. Ensure page number is correct, PDF is fit to page (vertically stretched), and that your box is fully within the PDF.\")\n",
    "    \n",
    "\n",
    "def upload_file(capture_button, tool):\n",
    "    file_path = filedialog.askopenfilename(filetypes=[(\"PDF files\", \"*.pdf\"), (\"All files\", \"*.*\")])\n",
    "    if file_path:\n",
    "        # print(file_path)\n",
    "        global file\n",
    "        file = file_path\n",
    "        tk.Grid.rowconfigure(tool, 1, weight=1)\n",
    "        capture_button.grid(row=1, column=0, sticky=\"NSEW\", columnspan=2)\n",
    "        "
   ]
  },
  {
   "cell_type": "code",
   "execution_count": 224,
   "metadata": {},
   "outputs": [],
   "source": [
    "def draw(event, canvas):\n",
    "    global tlx, tly\n",
    "    tlx = event.x\n",
    "    tly = event.y\n",
    "    canvas.create_oval(tlx-2, tly-2, tlx+2, tly+2, fill=\"Black\")\n",
    "\n",
    "def end_draw(event, transparent, canvas, tool):\n",
    "    global brx, bry\n",
    "    brx = event.x\n",
    "    bry = event.y\n",
    "\n",
    "    capture_button = tool.children.get(\"capture_button\")\n",
    "    \n",
    "    confirm_button = tk.Button(tool, text=\"Confirm\", name=\"confirm_button\", command=lambda: extract(tool))\n",
    "    \n",
    "    page_textbox = tk.Text(tool, name=\"page_textbox\", width=3, height=1)\n",
    "    textbox_label = tk.Label(tool, text=\"Page #\", name=\"textbox_label\")\n",
    "\n",
    "    canvas.create_rectangle(tlx, tly, brx, bry, outline=\"black\", width=5)\n",
    "\n",
    "    page = get_page_number()\n",
    "\n",
    "    tk.Grid.rowconfigure(tool, 2, weight=1)\n",
    "    textbox_label.grid(row=2, column=0, sticky=\"SNEW\")\n",
    "    page_textbox.grid(row=2, column=1, sticky=\"SNEW\")\n",
    "\n",
    "    if not re.search(r'\\d+', page_textbox.get(\"1.0\", tk.END)): # if empty\n",
    "        page_textbox.insert(\"1.0\", str(page))\n",
    "\n",
    "    capture_button.config(text=\"Redraw?\")\n",
    "    transparent.after(1000, transparent.destroy)\n",
    "\n",
    "    tk.Grid.rowconfigure(tool, 3, weight=1)\n",
    "    confirm_button.grid(row=3, column=0, sticky=\"SNEW\", columnspan=2)\n",
    "\n",
    "    reminder = tk.Label(tool, text=\"Remember to fit the PDF to page!\", name=\"reminder\", font=('Helvetica', 9, 'bold'))\n",
    "    reminder.grid(row=4, column=0)\n"
   ]
  },
  {
   "cell_type": "code",
   "execution_count": 225,
   "metadata": {},
   "outputs": [],
   "source": [
    "def on_capture_button_click(tool):\n",
    "    transparent = tk.Tk()\n",
    "    transparent.overrideredirect(True)\n",
    "    transparent.state('zoomed')\n",
    "    canvas = tk.Canvas(transparent)\n",
    "    canvas.pack(fill=tk.BOTH, expand=True)\n",
    "\n",
    "    capture_button = tool.children.get(\"capture_button\")\n",
    "    capture_button.config(text=\"...\")\n",
    "\n",
    "    transparent.attributes(\"-alpha\", 0.5)\n",
    "\n",
    "    canvas.bind(\"<ButtonPress-1>\", lambda event: draw(event, canvas))\n",
    "    canvas.bind(\"<ButtonRelease-1>\", lambda event: end_draw(event, transparent, canvas, tool))"
   ]
  },
  {
   "cell_type": "code",
   "execution_count": null,
   "metadata": {},
   "outputs": [],
   "source": [
    "# def download_csv():\n"
   ]
  },
  {
   "cell_type": "code",
   "execution_count": 226,
   "metadata": {},
   "outputs": [],
   "source": [
    "tool = tk.Tk()\n",
    "tool.title(\"COINS Tool\")\n",
    "\n",
    "# download_button = tk.Button(tool, text=f\"Download csv ({-1} items)\", name=\"download_button\" command=download_csv)\n",
    "\n",
    "upload_button = tk.Button(tool, text=\"Upload PDF\", name='upload_button', command=lambda: upload_file(capture_button, tool))\n",
    "\n",
    "capture_button = tk.Button(tool, text=\"Capture table\", name=\"capture_button\", \n",
    "                           command=lambda: on_capture_button_click(tool))\n",
    "\n",
    "\n",
    "\n",
    "tk.Grid.columnconfigure(tool, 0, weight=1)\n",
    "tk.Grid.columnconfigure(tool, 1, weight=1)\n",
    "tk.Grid.rowconfigure(tool, 0, weight=1)\n",
    "\n",
    "upload_button.grid(row=0, column=0, sticky=\"NSEW\", columnspan=2)\n",
    "\n",
    "tool.mainloop()"
   ]
  },
  {
   "cell_type": "markdown",
   "metadata": {},
   "source": [
    "# Time: 6:45-"
   ]
  },
  {
   "cell_type": "markdown",
   "metadata": {},
   "source": [
    "End"
   ]
  }
 ],
 "metadata": {
  "kernelspec": {
   "display_name": "CoinGuessr",
   "language": "python",
   "name": "python3"
  },
  "language_info": {
   "codemirror_mode": {
    "name": "ipython",
    "version": 3
   },
   "file_extension": ".py",
   "mimetype": "text/x-python",
   "name": "python",
   "nbconvert_exporter": "python",
   "pygments_lexer": "ipython3",
   "version": "3.9.17"
  }
 },
 "nbformat": 4,
 "nbformat_minor": 2
}
